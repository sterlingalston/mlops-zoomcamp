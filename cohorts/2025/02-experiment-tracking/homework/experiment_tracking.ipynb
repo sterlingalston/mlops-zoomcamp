{
 "cells": [
  {
   "cell_type": "markdown",
   "id": "86440674",
   "metadata": {},
   "source": [
    "Q1: How many files were saved to OUTPUT_FOLDER?\n",
    "\n",
    "1\\\n",
    "3\\\n",
    "**4**\\\n",
    "7"
   ]
  },
  {
   "cell_type": "markdown",
   "id": "7ef416d2",
   "metadata": {},
   "source": []
  }
 ],
 "metadata": {
  "language_info": {
   "name": "python"
  }
 },
 "nbformat": 4,
 "nbformat_minor": 5
}
