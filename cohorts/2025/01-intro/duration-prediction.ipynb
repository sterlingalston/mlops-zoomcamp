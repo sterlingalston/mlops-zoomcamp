{
 "cells": [
  {
   "cell_type": "code",
   "execution_count": 1,
   "id": "b2bd82d7",
   "metadata": {},
   "outputs": [
    {
     "name": "stdout",
     "output_type": "stream",
     "text": [
      "Python 3.12.3\n"
     ]
    }
   ],
   "source": [
    "!python -V"
   ]
  },
  {
   "cell_type": "code",
   "execution_count": 2,
   "id": "41062d8a",
   "metadata": {},
   "outputs": [],
   "source": [
    "import pandas as pd"
   ]
  },
  {
   "cell_type": "code",
   "execution_count": 3,
   "id": "c984c564",
   "metadata": {},
   "outputs": [],
   "source": [
    "import pickle"
   ]
  },
  {
   "cell_type": "code",
   "execution_count": 4,
   "id": "4add538c",
   "metadata": {},
   "outputs": [],
   "source": [
    "import seaborn as sns\n",
    "import matplotlib.pyplot as plt"
   ]
  },
  {
   "cell_type": "code",
   "execution_count": 5,
   "id": "8b135c2b",
   "metadata": {},
   "outputs": [],
   "source": [
    "from sklearn.feature_extraction import DictVectorizer # turns dictionary into vector\n",
    "from sklearn.linear_model import LinearRegression\n",
    "from sklearn.linear_model import Lasso\n",
    "from sklearn.linear_model import Ridge\n",
    "\n",
    "from sklearn.metrics import root_mean_squared_error"
   ]
  },
  {
   "cell_type": "markdown",
   "id": "8daae911",
   "metadata": {},
   "source": [
    "Q1. Downloading the data\n",
    "We'll use the same NYC taxi dataset, but instead of \"Green Taxi Trip Records\", we'll use \"Yellow Taxi Trip Records\".\n",
    "\n",
    "Download the data for January and February 2023.\n",
    "\n",
    "Read the data for January. How many columns are there?"
   ]
  },
  {
   "cell_type": "code",
   "execution_count": 27,
   "id": "3a5d8e43",
   "metadata": {},
   "outputs": [
    {
     "name": "stdout",
     "output_type": "stream",
     "text": [
      "January 2023 columns count:  19\n"
     ]
    }
   ],
   "source": [
    "df_jan2023 = pd.read_parquet('/home/mlops-zoomcamp/notebooks/data/yellow_tripdata_2023-01.parquet')\n",
    "df_feb2023 = pd.read_parquet('/home/mlops-zoomcamp/notebooks/data/yellow_tripdata_2023-02.parquet')\n",
    "\n",
    "print(\"January 2023 columns count: \", df_jan2023.columns.size)"
   ]
  },
  {
   "cell_type": "markdown",
   "id": "74c6dd4e",
   "metadata": {},
   "source": [
    "Q2. Now let's compute the duration variable. It should contain the duration of a ride in minutes.\n",
    "\n",
    "What's the standard deviation of the trips duration in January?"
   ]
  },
  {
   "cell_type": "code",
   "execution_count": 28,
   "id": "56bf6255",
   "metadata": {},
   "outputs": [
    {
     "name": "stdout",
     "output_type": "stream",
     "text": [
      "January 2023 standard deviation:  42.594351241920904\n"
     ]
    }
   ],
   "source": [
    "df_jan2023['tpep_dropoff_datetime'] = pd.to_datetime(df_jan2023['tpep_dropoff_datetime'])\n",
    "df_jan2023['tpep_pickup_datetime'] = pd.to_datetime(df_jan2023['tpep_pickup_datetime'])\n",
    "\n",
    "df_jan2023['duration'] = (df_jan2023['tpep_dropoff_datetime'] - df_jan2023['tpep_pickup_datetime'])\n",
    "df_jan2023[\"duration\"] = df_jan2023[\"duration\"].apply(lambda td: td.total_seconds()/60)\n",
    "jan2023_std_dev = df_jan2023[\"duration\"].std()\n",
    "\n",
    "print(\"January 2023 standard deviation: \", jan2023_std_dev)"
   ]
  },
  {
   "cell_type": "markdown",
   "id": "4f877065",
   "metadata": {},
   "source": [
    "Q3. Dropping outliers\n",
    "Next, we need to check the distribution of the duration variable. There are some outliers. Let's remove them and keep only the records where the duration was between 1 and 60 minutes (inclusive).\n",
    "\n",
    "What fraction of the records left after you dropped the outliers?"
   ]
  },
  {
   "cell_type": "code",
   "execution_count": 29,
   "id": "ff21221b",
   "metadata": {},
   "outputs": [
    {
     "name": "stdout",
     "output_type": "stream",
     "text": [
      "Fraction remaining after dropping outliers:  98.1220282212598\n"
     ]
    }
   ],
   "source": [
    "tot_trips0 = len(df_jan2023)\n",
    "# dropping outliers\n",
    "df_jan2023 = df_jan2023[(df_jan2023[\"duration\"] >= 1) & (df_jan2023[\"duration\"] <= 60)]\n",
    "tot_trips1 = len(df_jan2023)\n",
    "\n",
    "print(\"Fraction remaining after dropping outliers: \", 100 * (tot_trips1/tot_trips0))"
   ]
  },
  {
   "cell_type": "markdown",
   "id": "ec434dfe",
   "metadata": {},
   "source": [
    "Q4. One-hot encoding\n",
    "Let's apply one-hot encoding to the pickup and dropoff location IDs. We'll use only these two features for our model.\n",
    "\n",
    "Turn the dataframe into a list of dictionaries (remember to re-cast the ids to strings - otherwise it will label encode them)\n",
    "Fit a dictionary vectorizer\n",
    "Get a feature matrix from it\n",
    "What's the dimensionality of this matrix (number of columns)?"
   ]
  },
  {
   "cell_type": "code",
   "execution_count": 30,
   "id": "96acdd26",
   "metadata": {},
   "outputs": [
    {
     "name": "stdout",
     "output_type": "stream",
     "text": [
      "The dimensionality (number of columns) is: 515\n"
     ]
    }
   ],
   "source": [
    "dv = DictVectorizer() #one-hot encoding\n",
    "\n",
    "l_features = ['PULocationID', 'DOLocationID']\n",
    "df_jan2023[l_features] = df_jan2023[l_features].astype(str)\n",
    "dict_features = df_jan2023[l_features].to_dict(orient='records')\n",
    "\n",
    "X_train = dv.fit_transform(dict_features)\n",
    "col_number = X_train.shape[1]\n",
    "print(\"The dimensionality (number of columns) is:\", col_number)"
   ]
  },
  {
   "cell_type": "markdown",
   "id": "dd637a0a",
   "metadata": {},
   "source": [
    "Q5. Training a model\n",
    "Now let's use the feature matrix from the previous step to train a model.\n",
    "\n",
    "Train a plain linear regression model with default parameters, where duration is the response variable\n",
    "Calculate the RMSE of the model on the training data\n",
    "What's the RMSE on train?"
   ]
  },
  {
   "cell_type": "code",
   "execution_count": 31,
   "id": "8efd09a2",
   "metadata": {},
   "outputs": [
    {
     "name": "stdout",
     "output_type": "stream",
     "text": [
      "RMSE on train:  7.649261920265976\n"
     ]
    }
   ],
   "source": [
    "target = 'duration'\n",
    "y_train = df_jan2023[target].values\n",
    "\n",
    "lr = LinearRegression()\n",
    "lr.fit(X_train, y_train)\n",
    "\n",
    "y_pred = lr.predict(X_train)\n",
    "\n",
    "rmse = root_mean_squared_error(y_train, y_pred)\n",
    "\n",
    "print(\"RMSE on train: \", rmse)"
   ]
  },
  {
   "cell_type": "markdown",
   "id": "803fc0c4",
   "metadata": {},
   "source": [
    "Q6. Evaluating the model\n",
    "Now let's apply this model to the validation dataset (February 2023).\n",
    "\n",
    "What's the RMSE on validation?"
   ]
  },
  {
   "cell_type": "code",
   "execution_count": null,
   "id": "7f53d712",
   "metadata": {},
   "outputs": [],
   "source": [
    "def read_dataframe(filename):\n",
    "    if filename.endswith('.csv'):\n",
    "        df = pd.read_csv(filename)\n",
    "\n",
    "        df.tpep_dropoff_datetime = pd.to_datetime(df.tpep_dropoff_datetime)\n",
    "        df.tpep_pickup_datetime = pd.to_datetime(df.tpep_pickup_datetime)\n",
    "    elif filename.endswith('.parquet'):\n",
    "        df = pd.read_parquet(filename)\n",
    "\n",
    "    df['duration'] = df.tpep_dropoff_datetime - df.tpep_pickup_datetime\n",
    "    df.duration = df.duration.apply(lambda td: td.total_seconds() / 60)\n",
    "\n",
    "    df = df[(df.duration >= 1) & (df.duration <= 60)]\n",
    "\n",
    "    categorical = ['PULocationID', 'DOLocationID']\n",
    "    df[categorical] = df[categorical].astype(str)\n",
    "    \n",
    "    return df\n",
    "\n",
    "df_val = read_dataframe('/home/mlops-zoomcamp/notebooks/data/yellow_tripdata_2023-02.parquet')\n",
    "df_train = df_jan2023.copy()\n",
    "\n",
    "categorical = ['PULocationID', 'DOLocationID']\n",
    "train_dicts = df_train[categorical].to_dict(orient='records')\n",
    "val_dicts = df_val[categorical].to_dict(orient='records')\n",
    "\n",
    "target = 'duration'\n",
    "y_train = df_train[target].values\n",
    "y_val = df_val[target].values\n",
    "\n",
    "X_train = dv.fit_transform(train_dicts)\n",
    "X_val = dv.transform(val_dicts)\n",
    "\n",
    "lr = LinearRegression()\n",
    "lr.fit(X_train, y_train)\n",
    "\n",
    "y_pred = lr.predict(X_val)\n",
    "\n",
    "rmse_model = root_mean_squared_error(y_val, y_pred)\n",
    "\n",
    "print(\"RMSE on validation set: \", rmse_model)"
   ]
  },
  {
   "cell_type": "code",
   "execution_count": null,
   "id": "60e14801",
   "metadata": {},
   "outputs": [],
   "source": []
  }
 ],
 "metadata": {
  "kernelspec": {
   "display_name": "Python 3",
   "language": "python",
   "name": "python3"
  },
  "language_info": {
   "codemirror_mode": {
    "name": "ipython",
    "version": 3
   },
   "file_extension": ".py",
   "mimetype": "text/x-python",
   "name": "python",
   "nbconvert_exporter": "python",
   "pygments_lexer": "ipython3",
   "version": "3.12.3"
  }
 },
 "nbformat": 4,
 "nbformat_minor": 5
}
